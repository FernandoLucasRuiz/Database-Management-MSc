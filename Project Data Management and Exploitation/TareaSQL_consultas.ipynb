{
 "cells": [
  {
   "cell_type": "markdown",
   "metadata": {},
   "source": [
    "# Práctica 2. Gestión y explotación de datos"
   ]
  },
  {
   "cell_type": "markdown",
   "metadata": {},
   "source": [
    "### Realizada por Fernando Lucas Ruiz"
   ]
  },
  {
   "cell_type": "markdown",
   "metadata": {},
   "source": [
    "## 1. Importar librerias y generar funciones"
   ]
  },
  {
   "cell_type": "code",
   "execution_count": 10,
   "metadata": {},
   "outputs": [],
   "source": [
    "import mysql.connector\n",
    "import pandas as pd\n",
    "\n",
    "#importo estas librerias porque con pandas me sale siempre un warning incomodo para mostrar ante un usuario\n",
    "import warnings\n",
    "warnings.filterwarnings('ignore', category=UserWarning)"
   ]
  },
  {
   "cell_type": "markdown",
   "metadata": {},
   "source": [
    "Función para conectar con la base de datos"
   ]
  },
  {
   "cell_type": "code",
   "execution_count": 11,
   "metadata": {},
   "outputs": [],
   "source": [
    "def conectar_mysql(host, user, password, database) :\n",
    "    #Usamos el mecanismo de excepciones para controlar que todo es correcto\n",
    "    try :\n",
    "        mydb = mysql.connector.connect(\n",
    "            host=host,\n",
    "            user=user, #Usuario\n",
    "            password=password,#contraseña\n",
    "            database=database #esquema\n",
    "        )\n",
    "        return mydb\n",
    "    except :\n",
    "        return None"
   ]
  },
  {
   "cell_type": "markdown",
   "metadata": {},
   "source": [
    "## 2. Consultas SQL"
   ]
  },
  {
   "cell_type": "markdown",
   "metadata": {},
   "source": [
    "En estas lineas de código se especifican las consultas propuestas en la base de datos"
   ]
  },
  {
   "cell_type": "code",
   "execution_count": 12,
   "metadata": {},
   "outputs": [],
   "source": [
    "# 1. Resultado agrupado de los pacientes por las propiedades sexo y rango de edad. \n",
    "# AYUDA: Se puede hacer más de un JOIN sobre la misma tabla. El resultado debería ser parecido a esta tabla:\n",
    "consulta1 = \"\"\"select p1.nombre as sexo, p2.nombre as 'rango de edad', count(m.codigo) as 'n muestras' from b3b2_muestra as m \n",
    "inner join (select muestra, nombre from b3b2_muestra_propiedad mp inner join b3b2_propiedad p on mp.propiedad = p.id where p.tipo = 'sexo') as p1 \n",
    "on m.codigo=p1.muestra \n",
    "inner join \n",
    "(select muestra, nombre from b3b2_muestra_propiedad mp inner join b3b2_propiedad p on mp.propiedad = p.id where p.tipo = 'rango de edad') as p2\n",
    "on p1.muestra = p2.muestra\n",
    "group by p1.nombre, p2.nombre\"\"\"\n",
    "\n",
    "\n",
    "# 2 Número de genes que participan en la rutas que contenta la palabra 'platelet'. \n",
    "# Simplemente hay que devolver el número.\n",
    "consulta2 = \"\"\"select count(g.gene_ensembl) as \"numero de genes\" from b3b2_gen as g\n",
    "inner join b3b2_gen_pathway as gp on g.gene_ensembl=gp.gen\n",
    "inner join b3b2_pathway as p on gp.pathway=p.codigo\n",
    "where p.descripcion like '%platelet%'\"\"\"\n",
    "\n",
    "\n",
    "# 3 Muestras de las que no tenemos resultados de expresión. Basta con devolver el código de la muestra.\n",
    "consulta3 =\"\"\"select m.codigo as muestras from b3b2_muestra as m\n",
    "left join b3b2_expresion as e on m.codigo = e.muestra\n",
    "where e.expresion is null\"\"\"\n",
    "\n",
    "\n",
    "# 4 Media de expresión de los genes secuenciados. Devolverá el gene_symbol y la media de expresión global.\n",
    "consulta4 = \"\"\"select g.gene_symbol, avg(e.expresion) as \"Media expresion global\" from b3b2_expresion as e\n",
    "inner join b3b2_gen as g on e.gen = g.gene_ensembl\n",
    "group by e.gen\"\"\"\n",
    "\n",
    "\n",
    "# 5 Número de pathways de los genes que tienen media de expresión mayor de 25. Sólo debe devolver un número.\n",
    "consulta5 = \"\"\"select sum(t.cuenta) as \"Número de pathways\" from (\n",
    "select count(p.codigo) as cuenta from b3b2_expresion as e\n",
    "inner join b3b2_gen as g on e.gen = g.gene_ensembl\n",
    "inner join b3b2_gen_pathway as gp on gp.gen=g.gene_ensembl\n",
    "inner join b3b2_pathway as p on p.codigo=gp.pathway\n",
    "group by e.gen\n",
    "having avg(e.expresion) > 25\n",
    ") as t\"\"\"\n",
    "\n",
    "\n",
    "# 6 Muestras de las que no tenemos alguna propiedad (o sexo o rango de edad). Basta con devolver el código de la muestra.\n",
    "consulta6 = \"\"\"select m.codigo as codigo_muestra from b3b2_muestra as m\n",
    "left join\n",
    "    (select muestra from b3b2_muestra_propiedad as mp inner join b3b2_propiedad as p on mp.propiedad = p.id where p.tipo = 'sexo') as sexo\n",
    "on m.codigo = sexo.muestra\n",
    "left join  \n",
    "    (select muestra from b3b2_muestra_propiedad as mp inner join b3b2_propiedad as p on mp.propiedad = p.id where p.tipo = 'rango de edad') as rango\n",
    "on m.codigo = rango.muestra\n",
    "where sexo.muestra is null or rango.muestra is null\"\"\"\n",
    "\n",
    "\n",
    "# 7 Número de muestras por run.\n",
    "consulta7 = \"\"\"select r.nombre as run, count(m.codigo) as \"n muestras\" from b3b2_muestra as m\n",
    "inner join b3b2_muestra_run as mr on m.codigo=mr.muestra\n",
    "inner join b3b2_run as r on mr.run = r.nombre\n",
    "group by r.nombre\"\"\"\n",
    "\n",
    "\n",
    "# 8 Consulta que devuelva los genes cuyo log2foldchange sea mayor de 1 en valor absoluto entre muestras con sexo hombre y muestras con sexo mujer. \n",
    "# Deberá de devolver el gene_symbol y el valor de log2foldchange.\n",
    "consulta8 = \"\"\"select exp_mujer.gene_symbol, (log2(media_mujer/media_hombre)) as log2fc from\n",
    "(select g.gene_symbol, avg(e.expresion) as media_mujer from b3b2_expresion as e\n",
    "left join b3b2_gen as g on e.gen = g.gene_ensembl\n",
    "inner join b3b2_muestra as m on e.muestra = m.codigo \n",
    "inner join b3b2_muestra_propiedad as mp on m.codigo = mp.muestra\n",
    "inner join b3b2_propiedad as p on mp.propiedad = p.id where p.tipo = \"sexo\" and p.nombre = \"Mujer\"\n",
    "group by e.gen) as exp_mujer\n",
    "inner join \n",
    "(select g.gene_symbol, avg(e.expresion) as media_hombre from b3b2_expresion as e\n",
    "left join b3b2_gen as g on e.gen = g.gene_ensembl\n",
    "inner join b3b2_muestra as m on e.muestra = m.codigo \n",
    "inner join b3b2_muestra_propiedad as mp on m.codigo = mp.muestra\n",
    "inner join b3b2_propiedad as p on mp.propiedad = p.id where p.tipo = \"sexo\" and p.nombre = \"Hombre\"\n",
    "group by e.gen) as exp_hombre \n",
    "on exp_mujer.gene_symbol = exp_hombre.gene_symbol\n",
    "where abs(log2(media_mujer/media_hombre)) > 1\"\"\""
   ]
  },
  {
   "cell_type": "markdown",
   "metadata": {},
   "source": [
    "## 3. Programa"
   ]
  },
  {
   "cell_type": "markdown",
   "metadata": {},
   "source": [
    "Programa en el cual el usuario puede elegir entre las 8 consultas propuestas para la tarea."
   ]
  },
  {
   "cell_type": "code",
   "execution_count": 13,
   "metadata": {},
   "outputs": [
    {
     "name": "stdout",
     "output_type": "stream",
     "text": [
      "\n",
      "\n",
      "1. Consulta 1: Resultado agrupado de los pacientes por las propiedades sexo y rango de edad\n",
      "2. Consulta 2: Número de genes que participan en la rutas que contenta la palabra 'platelet'\n",
      "3. Consulta 3: Muestras de las que no tenemos resultados de expresión\n",
      "4. Consulta 4: Media de expresión de los genes secuenciados\n",
      "5. Consulta 5: Número de pathways de los genes que tienen media de expresión mayor de 25\n",
      "6. Consulta 6: Muestras de las que no tenemos alguna propiedad (o sexo o rango de edad)\n",
      "7. Consulta 7: Número de muestras por run\n",
      "8. Consulta 8: log2foldchange sea mayor de 1 en valor absoluto entre muestras con sexo hombre y muestras con sexo mujer\n",
      "\n",
      "\n",
      "\n",
      "   sexo rango de edad  n muestras\n",
      " Mujer           <18           7\n",
      "Hombre         18-45           7\n",
      " Mujer         45-70           7\n",
      "Hombre           >70           6 \n",
      "\n",
      "\n",
      "\n",
      "\t El programa ha finalizado correctamente.\n"
     ]
    }
   ],
   "source": [
    "while True:\n",
    "     # hacemos conexión con la base de datos\n",
    "     conexion = conectar_mysql(\"dayhoff.inf.um.es\", \"alubio11\", \"alubio11PW-\", \"alubio11\")\n",
    "     \n",
    "     print(\"\\n\\n1. Consulta 1: Resultado agrupado de los pacientes por las propiedades sexo y rango de edad\")\n",
    "     print(\"2. Consulta 2: Número de genes que participan en la rutas que contenta la palabra 'platelet'\")\n",
    "     print(\"3. Consulta 3: Muestras de las que no tenemos resultados de expresión\")\n",
    "     print(\"4. Consulta 4: Media de expresión de los genes secuenciados\")\n",
    "     print(\"5. Consulta 5: Número de pathways de los genes que tienen media de expresión mayor de 25\")\n",
    "     print(\"6. Consulta 6: Muestras de las que no tenemos alguna propiedad (o sexo o rango de edad)\")\n",
    "     print(\"7. Consulta 7: Número de muestras por run\")\n",
    "     print(\"8. Consulta 8: log2foldchange sea mayor de 1 en valor absoluto entre muestras con sexo hombre y muestras con sexo mujer\\n\")\n",
    "\n",
    "     # input para que el usuario pueda elegir entre las 8 opciones\n",
    "     opcion = input(\"\\nIndique el opción que desea ejecutar (1, 2, 3, 4, 5, 6, 7, 8): \")\n",
    "     opciones = [\"1\", \"2\", \"3\", \"4\", \"5\", \"6\", \"7\", \"8\"]\n",
    "     \n",
    "     # Según la opción que marque el usuario la variable tabla_consulta tendrá una consulta específica\n",
    "     if opcion == \"1\":\n",
    "          tabla_consulta = pd.read_sql(consulta1, conexion)\n",
    "     \n",
    "     elif opcion == \"2\":\n",
    "          tabla_consulta = pd.read_sql(consulta2, conexion)\n",
    "\n",
    "     elif opcion == \"3\":\n",
    "          tabla_consulta = pd.read_sql(consulta3, conexion)\n",
    "\n",
    "     elif opcion == \"4\":\n",
    "          tabla_consulta = pd.read_sql(consulta4, conexion)\n",
    "\n",
    "     elif opcion == \"5\":\n",
    "          tabla_consulta = pd.read_sql(consulta5, conexion)\n",
    "     \n",
    "     elif opcion == \"6\":\n",
    "          tabla_consulta = pd.read_sql(consulta6, conexion)\n",
    "\n",
    "     elif opcion == \"7\":\n",
    "          tabla_consulta = pd.read_sql(consulta7, conexion)\n",
    "          \n",
    "     elif opcion == \"8\":\n",
    "          tabla_consulta = pd.read_sql(consulta8, conexion) \n",
    "\n",
    "     else: # si no elige entre las 8 opciones le volverá a preguntar al usuario\n",
    "          print(\"Has elegido:\", opcion, \". Por favor, elige entre las 8 opciones propuestas\") \n",
    "          True\n",
    "\n",
    "     # Si la opción dispuesta por el usuario no está dentro de la lista opciones antes creada, le vuelve a preguntar al usario\n",
    "     if opcion in opciones:\n",
    "\n",
    "          #Devuelve por pantalla la tabla de la consulta específica\n",
    "          print(\"\\n\\n\", tabla_consulta.to_string(index=False), \"\\n\")\n",
    "\n",
    "          # Preguntar al usuario si quiere seguir mirando opciones de consultas\n",
    "          \n",
    "          continuar = input(\"¿Quieres continuar? (y/n)\")\n",
    "          if continuar == \"y\":\n",
    "               True\n",
    "          elif continuar == \"n\":\n",
    "               conexion.close() # Cerrar sesión \n",
    "               print(\"\\n\\n\\t El programa ha finalizado correctamente.\")\n",
    "               break # para el programa\n",
    "               \n",
    "          break\n",
    "\n",
    "     else:\n",
    "          True\n",
    "     \n",
    "     \n",
    "     \n"
   ]
  }
 ],
 "metadata": {
  "kernelspec": {
   "display_name": "Python 3",
   "language": "python",
   "name": "python3"
  },
  "language_info": {
   "codemirror_mode": {
    "name": "ipython",
    "version": 3
   },
   "file_extension": ".py",
   "mimetype": "text/x-python",
   "name": "python",
   "nbconvert_exporter": "python",
   "pygments_lexer": "ipython3",
   "version": "3.12.0"
  },
  "orig_nbformat": 4
 },
 "nbformat": 4,
 "nbformat_minor": 2
}
