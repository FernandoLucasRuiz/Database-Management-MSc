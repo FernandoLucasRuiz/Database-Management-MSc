{
 "cells": [
  {
   "cell_type": "markdown",
   "metadata": {},
   "source": [
    "# Práctica 2. Gestión y explotación de datos"
   ]
  },
  {
   "cell_type": "markdown",
   "metadata": {},
   "source": [
    "### Realizada por Fernando Lucas Ruiz"
   ]
  },
  {
   "cell_type": "markdown",
   "metadata": {},
   "source": [
    "## 1. Importar librerias"
   ]
  },
  {
   "cell_type": "code",
   "execution_count": 1,
   "metadata": {},
   "outputs": [],
   "source": [
    "from pathlib import Path\n",
    "import re\n",
    "import csv\n",
    "import requests, sys\n",
    "import mysql.connector\n"
   ]
  },
  {
   "cell_type": "markdown",
   "metadata": {},
   "source": [
    "## 2. Funciones"
   ]
  },
  {
   "cell_type": "markdown",
   "metadata": {},
   "source": [
    "Funcion para cargar los datos de los ficheros csv"
   ]
  },
  {
   "cell_type": "code",
   "execution_count": 2,
   "metadata": {},
   "outputs": [],
   "source": [
    "def load_runs(ruta):\n",
    "     # Guardar la ruta donde se encuentran los ficheros csv con los run\n",
    "     base_path = Path(ruta) \n",
    "\n",
    "     diccionario_resultado = {} # diccionario vacio donde meteremos los datos de los csv\n",
    "\n",
    "     \n",
    "     for file in base_path.rglob(\"*.csv\"):\n",
    "\n",
    "          # guardar el nombre del run \n",
    "          er=re.compile(\"(run)+[0-9]\")  \n",
    "          run=er.search(str(file)).group()\n",
    "\n",
    "          # Búsqueda de delimitador para abrir correctamente los archivos csv\n",
    "          # para ello solamente abrimos la primera fila y buscamos el delimitador que lo utilizaremos en la siguiente estructura de control\n",
    "          with open(file, mode = \"r\") as csv_file:\n",
    "               csv_reader = csv.reader(csv_file)\n",
    "               contador = 0\n",
    "               for row in csv_reader:\n",
    "                    if contador == 0:\n",
    "                         if \";\" in row[0]:\n",
    "                              delimitador = \";\"\n",
    "                              contador +=1\n",
    "                              continue\n",
    "                         elif \",\" in row[0]:\n",
    "                              delimitador = \";\"\n",
    "                              contador +=1\n",
    "                              continue\n",
    "                         elif \"|\" in row[0]:\n",
    "                              delimitador = \";\"\n",
    "                              contador +=1\n",
    "                              continue\n",
    "                         elif \"#\" in row[0]:\n",
    "                              delimitador = \";\"\n",
    "                              contador +=1\n",
    "                              continue\n",
    "                         else:\n",
    "                              delimitador = '\\t'\n",
    "                              contador +=1\n",
    "                    else:\n",
    "                         break\n",
    "\n",
    "          # Guardar los datos en diccionario con el delimitador correcto\n",
    "          with open(file, mode = \"r\") as csv_file:\n",
    "                    csv_reader = csv.DictReader(csv_file, delimiter = delimitador)\n",
    "                    lista_resultado = []\n",
    "                    for row in csv_reader:\n",
    "                         lista_resultado.append(row)\n",
    "\n",
    "          diccionario_resultado[run] = lista_resultado\n",
    "     return diccionario_resultado"
   ]
  },
  {
   "cell_type": "markdown",
   "metadata": {},
   "source": [
    "Función para buscar los ensemble IDs en función del gene symbol que tenga un gen específico."
   ]
  },
  {
   "cell_type": "code",
   "execution_count": 3,
   "metadata": {},
   "outputs": [],
   "source": [
    "def buscar_id_ensembl(gene_symbol):\n",
    "\n",
    "     # conexión con el servidor dependiendo del gene_symbol específico\n",
    "     server = \"https://rest.ensembl.org\"\n",
    "     ext = \"/xrefs/symbol/homo_sapiens/\"+gene_symbol+ \"?\"\n",
    "     \n",
    "     r = requests.get(server+ext, headers={ \"Content-Type\" : \"application/json\"})\n",
    "     \n",
    "     if not r.ok:\n",
    "          return None\n",
    "     \n",
    "     # Búsqueda dentro del decoded el ensembl ID\n",
    "     decoded = r.json()\n",
    "     for id in decoded:\n",
    "          if id[\"id\"].startswith(\"ENSG\"):\n",
    "               id_ensembl = id[\"id\"]\n",
    "               return id_ensembl"
   ]
  },
  {
   "cell_type": "markdown",
   "metadata": {},
   "source": [
    "Función para buscar el gene symbol en función del ensembl ID que tenga un gen específico."
   ]
  },
  {
   "cell_type": "code",
   "execution_count": 4,
   "metadata": {},
   "outputs": [],
   "source": [
    "def buscar_gene_symbol(ensembl_id):\n",
    "     \n",
    "     # Conectar con el servidor para descargar la información en decoded\n",
    "     server = \"https://rest.ensembl.org\"\n",
    "     ext = \"/xrefs/id/\"+ensembl_id+\"?\"\n",
    "     \n",
    "     r = requests.get(server+ext, headers={ \"Content-Type\" : \"application/json\"})\n",
    "     \n",
    "     if not r.ok:\n",
    "          r.raise_for_status()\n",
    "          sys.exit()\n",
    "     \n",
    "     decoded = r.json()\n",
    "\n",
    "     # La información del gene_symbol se encuentra en la base de datos EntreGene con el nombre display_id\n",
    "     for id in decoded:\n",
    "          if id[\"dbname\"] == \"EntrezGene\":\n",
    "               for i in id:\n",
    "                    if i.startswith(\"display_id\"):\n",
    "                         gene_symbol = id[i]\n",
    "\n",
    "     return gene_symbol"
   ]
  },
  {
   "cell_type": "markdown",
   "metadata": {},
   "source": [
    "Función para conectarme con la base de datos de MySQL"
   ]
  },
  {
   "cell_type": "code",
   "execution_count": 5,
   "metadata": {},
   "outputs": [],
   "source": [
    "def conectar_mysql(host, user, password, database) :\n",
    "    #Usamos el mecanismo de excepciones para controlar que todo es correcto\n",
    "    try :\n",
    "        mydb = mysql.connector.connect(\n",
    "            host=host,\n",
    "            user=user, #Usuario\n",
    "            password=password,#contraseña\n",
    "            database=database #esquema\n",
    "        )\n",
    "        return mydb\n",
    "    except :\n",
    "        return None"
   ]
  },
  {
   "cell_type": "markdown",
   "metadata": {},
   "source": [
    "## 3. Conexión y envio de datos a la base de datos"
   ]
  },
  {
   "cell_type": "markdown",
   "metadata": {},
   "source": [
    "Lo primero de todo descargamos los datos en la variable \"estructura_datos_runs\" con la función load_runs"
   ]
  },
  {
   "cell_type": "code",
   "execution_count": 6,
   "metadata": {},
   "outputs": [],
   "source": [
    "estructura_datos_runs = load_runs('/Users/fernandolucasruiz/Library/CloudStorage/OneDrive-UNIVERSIDADDEMURCIA/Documentos/Fernando/Master Bioinformatica/Asignaturas/Sistemas Bioinformáticos/Bloque2_gestion de datos/tarea2_2/')"
   ]
  },
  {
   "cell_type": "markdown",
   "metadata": {},
   "source": [
    "Ahora con la función buscar_id_ensembl, metemos en los datos cargados el nombre del gen en formato ensembl"
   ]
  },
  {
   "cell_type": "code",
   "execution_count": 7,
   "metadata": {},
   "outputs": [],
   "source": [
    "for run in estructura_datos_runs:\n",
    "     for i in estructura_datos_runs[run]:\n",
    "          ensembl_id=buscar_id_ensembl(i[\"gene\"])\n",
    "          i[\"ensembl\"] = ensembl_id"
   ]
  },
  {
   "cell_type": "markdown",
   "metadata": {},
   "source": [
    "Con este bloque de código pretendo actualizar la tabla b3b2_gen de la base de datos ya que en ella le falta la información de gene_symbol en su columna."
   ]
  },
  {
   "cell_type": "code",
   "execution_count": null,
   "metadata": {},
   "outputs": [],
   "source": [
    "# Hacemos conexión con la base de datos\n",
    "conexion = conectar_mysql(\"dayhoff.inf.um.es\", \"alubio11\", \"alubio11PW-\", \"alubio11\")\n",
    "\n",
    "# Extraigo la columna gene_ensembl que es donde están todos los nombres de los genes en formato ensembl\n",
    "mycursor = conexion.cursor()\n",
    "mycursor.execute(\"SELECT gene_ensembl FROM b3b2_gen\")\n",
    "myresult = mycursor.fetchall()\n",
    "\n",
    "# Plantilla de inserción\n",
    "update_sql = \"UPDATE b3b2_gen SET gene_symbol = %s WHERE gene_ensembl = %s\"\n",
    "\n",
    "# Con esta estructura de control voy pasando gen por gen y buscando su gene_symbol\n",
    "for ens in myresult:\n",
    "    symbol= buscar_gene_symbol(ens[0]) # ens[0] porque los nombress se descargan como tuplas\n",
    "    mycursor.execute(update_sql, (symbol, ens[0])) # ejecutamos la actualización introduciendo el gene_symbol donde está su gene_ensembl específico\n",
    "\n",
    "conexion.commit() #enviamos a la base de datos nuestra petición\n",
    "mycursor.close()\n",
    "conexion.close() #cerramos la conexión"
   ]
  },
  {
   "cell_type": "markdown",
   "metadata": {},
   "source": [
    "Bloque de código en el cual actualizamos las listas b3b2_run, b3b2_expresion, b3b2_muestra_run"
   ]
  },
  {
   "cell_type": "code",
   "execution_count": null,
   "metadata": {},
   "outputs": [],
   "source": [
    "# conexión con la base de datos\n",
    "conexion = conectar_mysql(\"dayhoff.inf.um.es\", \"alubio11\", \"alubio11PW-\", \"alubio11\") \n",
    "mycursor = conexion.cursor()\n",
    "\n",
    "# Plantillas de inserción\n",
    "run_sql = \"INSERT INTO b3b2_run (nombre) VALUES (%s)\"\n",
    "expresion_insert = \"INSERT INTO b3b2_expresion (muestra, gen, run, expresion) VALUES (%s, %s, %s, %s)\"\n",
    "muestra_run_insert = \"INSERT INTO b3b2_muestra_run (muestra, run) VALUES (%s, %s)\"\n",
    "\n",
    "# Genero dos listas vacias para llevar el control de las muestras y los runs que pasamos para evitar algún tipo de fallo o duplicación\n",
    "lista_muestras = []\n",
    "lista_run = []\n",
    "\n",
    "# Estructura de control para leer los datos almacenados en la variable estructura_datos_runs con los runs, muestras y expresiones\n",
    "for run in estructura_datos_runs:\n",
    "\n",
    "    # Con este bloque pretendo que solamente la primera pasada del run lo lance la la lista b3b2_run de la base de datos\n",
    "    if run not in lista_run:\n",
    "        mycursor.execute(run_sql, (run,))\n",
    "        conexion.commit()\n",
    "        lista_run.append(run)\n",
    "\n",
    "    # Empezamos a leer los genes, muestras y expresiones\n",
    "    for i in estructura_datos_runs[run]:\n",
    "        ensembl_gen = i[\"ensembl\"] # guardo el ensemble ID\n",
    "\n",
    "        # Hago esta linea porque había un gen que me daba problemas porque era un novel_gen y decidí no incluirlo en la base de datos\n",
    "        # intenté descargarme la información con la función buscar_gen_symbol pero no tenía ninguna información.\n",
    "        mycursor.execute(\"SELECT COUNT(*) FROM b3b2_gen WHERE gene_ensembl = %s\", (ensembl_gen,))\n",
    "        if mycursor.fetchone()[0] == 0:\n",
    "            continue\n",
    "        \n",
    "        # Bloque en el que ejecuto el envio de la información a la lista b3b2_expresión\n",
    "        for sample, exp in i.items():\n",
    "            if sample != \"gene\" and sample != \"ensembl\":\n",
    "                muestra = sample\n",
    "                expresion = exp\n",
    "                mycursor.execute(expresion_insert, (muestra, ensembl_gen, run, expresion))\n",
    "\n",
    "                # Bloque en el que ejecuto el envio de la información a la lista b3b2_muestra_run\n",
    "                if sample not in lista_muestras:\n",
    "                    mycursor.execute(muestra_run_insert, (muestra, run))\n",
    "                    lista_muestras.append(sample)\n",
    "\n",
    "\n",
    "conexion.commit() # enviamos la información a la base de datos\n",
    "mycursor.close()\n",
    "conexion.close() # cerramos la conexión con la base de datos\n"
   ]
  }
 ],
 "metadata": {
  "kernelspec": {
   "display_name": "Python 3",
   "language": "python",
   "name": "python3"
  },
  "language_info": {
   "codemirror_mode": {
    "name": "ipython",
    "version": 3
   },
   "file_extension": ".py",
   "mimetype": "text/x-python",
   "name": "python",
   "nbconvert_exporter": "python",
   "pygments_lexer": "ipython3",
   "version": "3.12.0"
  },
  "orig_nbformat": 4
 },
 "nbformat": 4,
 "nbformat_minor": 2
}
